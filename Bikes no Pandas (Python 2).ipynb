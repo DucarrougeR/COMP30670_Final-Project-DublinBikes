{
 "cells": [
  {
   "cell_type": "code",
   "execution_count": null,
   "metadata": {
    "collapsed": false
   },
   "outputs": [],
   "source": [
    "import requests\n",
    "import sqlite3\n",
    "import traceback\n",
    "import time\n",
    "\n",
    "# Setting up\n",
    "NAME = \"Dublin\"\n",
    "STATIONS = \"https://api.jcdecaux.com/vls/v1/stations\"\n",
    "APIKEY = \"1c8d24323042b11c89877648adfe3c180f15fa3c\"\n",
    "\n",
    "r = requests.get(\"https://api.jcdecaux.com/vls/v1/stations?contract=\" + NAME + \"&apiKey=\" + APIKEY)\n",
    "\n",
    "conn = sqlite3.connect(\"dublinBikes.db\") # Connect to database (creates if it does not exist)\n",
    "cursor = conn.cursor()\n",
    "\n",
    "# Create a new table in the current database\n",
    "# Specify column names and data types\n",
    "cursor.execute(\"CREATE TABLE IF NOT EXISTS dublinBikes (address text, available_bike_stands integer, available_bikes integer, banking integer, bike_stands integer, bonus integer, contract_name text, last_update integer, name text, number integer, position_lat real, position_lng real, status text)\")\n",
    "conn.commit() # Save the changes\n",
    "\n",
    "def add_to_database(json_data):\n",
    "    \"\"\" Function to add information to the database \"\"\"\n",
    "    \n",
    "    # Cycle through each element in the json file relating to individual stations\n",
    "    for i in range(0, (len(json_data)-1)):\n",
    "        data = json_data[i]\n",
    "        # Store all the information in a list\n",
    "        elements = [data.get(\"address\"), int(data.get(\"available_bike_stands\")), int(data.get(\"available_bikes\")), int(data.get(\"banking\")), int(data.get(\"bike_stands\")), int(data.get(\"bonus\")), data.get(\"contract_name\"), float(data.get(\"last_update\")), data.get(\"name\"), int(data.get(\"number\")), data.get(\"position\").get(\"lat\"), data.get(\"position\").get(\"lng\"), data.get(\"status\")]\n",
    "        \n",
    "        # Add each of these elements to the table in our database\n",
    "        cursor.execute(\"INSERT INTO dublinBikes VALUES (?,?,?,?,?,?,?,?,?,?,?,?,?)\", elements)\n",
    "    conn.commit()\n",
    "    \n",
    "# Always run\n",
    "while True:\n",
    "\n",
    "    try:\n",
    "        # Access info on JCDecaux website using API key\n",
    "        # Convert the JSON information into a response object using requests.get()\n",
    "        r = requests.get(\"https://api.jcdecaux.com/vls/v1/stations?contract=\" + NAME + \"&apiKey=\" + APIKEY)\n",
    "        \n",
    "        \n",
    "        # Add the information to the database\n",
    "        add_to_database(r.json())\n",
    "\n",
    "        # Sleep for 5 minutes\n",
    "        time.sleep(10)\n",
    "\n",
    "    except:\n",
    "        # Print traceback if there is an error\n",
    "        print traceback.format_exc()"
   ]
  }
 ],
 "metadata": {
  "kernelspec": {
   "display_name": "Python 3",
   "language": "python",
   "name": "python3"
  },
  "language_info": {
   "codemirror_mode": {
    "name": "ipython",
    "version": 3
   },
   "file_extension": ".py",
   "mimetype": "text/x-python",
   "name": "python",
   "nbconvert_exporter": "python",
   "pygments_lexer": "ipython3",
   "version": "3.5.1"
  }
 },
 "nbformat": 4,
 "nbformat_minor": 0
}
