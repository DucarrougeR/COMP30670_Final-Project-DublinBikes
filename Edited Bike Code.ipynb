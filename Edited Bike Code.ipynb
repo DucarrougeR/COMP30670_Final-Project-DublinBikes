{
 "cells": [
  {
   "cell_type": "code",
   "execution_count": 1,
   "metadata": {
    "collapsed": false
   },
   "outputs": [],
   "source": [
    "import requests\n",
    "import pandas as pd\n",
    "import sqlite3\n",
    "import traceback\n",
    "import time\n",
    "\n",
    "# Setting up\n",
    "NAME = \"Dublin\"\n",
    "STATIONS = \"https://api.jcdecaux.com/vls/v1/stations\"\n",
    "APIKEY = \"1c8d24323042b11c89877648adfe3c180f15fa3c\"\n",
    "\n",
    "# Main method\n",
    "def main():\n",
    "    \n",
    "    conn = sqlite3.connect(\"dublinBikes.db\") # Connect to database (creates if it does not exist)\n",
    "    cursor = conn.cursor()\n",
    "\n",
    "    # Create a new table in the current database\n",
    "    # Specify column names and data types\n",
    "    cursor.execute(\"CREATE TABLE IF NOT EXISTS dublinBikes (address text, available_bike_stands integer, available_bikes integer, banking integer, bike_stands integer, bonus integer, contract_name text, last_update integer, name text, number integer, position_lat real, position_lng real, status text)\")\n",
    "    conn.commit() # Save the changes\n",
    "    \n",
    "    \n",
    "    # Always run\n",
    "    while True:\n",
    "        \n",
    "        try:\n",
    "            # Access info on JCDecaux website using API key\n",
    "            # Convert the JSON information into a pandas dataframe format\n",
    "            df = pd.read_json(\"https://api.jcdecaux.com/vls/v1/stations?contract=\" + NAME + \"&apiKey=\" + APIKEY)\n",
    "\n",
    "            # Add the information to the database\n",
    "            add_to_database(df)\n",
    "            \n",
    "            # Sleep for 5 minutes\n",
    "            time.sleep(5*60)\n",
    "            \n",
    "        except:\n",
    "            # Print traceback if there is an error\n",
    "            print(traceback.format_exc())\n",
    "            \n",
    "    return"
   ]
  },
  {
   "cell_type": "code",
   "execution_count": null,
   "metadata": {
    "collapsed": true
   },
   "outputs": [],
   "source": [
    "def add_to_database(dataframe):\n",
    "    \"\"\" Function to add information to the database \"\"\"\n",
    "    \n",
    "    # df.shape returns the number of columns and rows in a dataframe\n",
    "    # So using the first value returned, we can cycle through each row in the dataframe (where each row has information on a specific station)\n",
    "    for i in range(0, (df.shape[0]-1)):\n",
    "        data = df.iloc[i] # df.iloc[] just allows us to access elements via normal indexing of a pandas dataframe\n",
    "        \n",
    "        # Store all the information from the dataframe in a list\n",
    "        elements = [data.get(\"address\"), int(data.get(\"available_bike_stands\")), int(data.get(\"available_bikes\")), int(data.get(\"banking\")), int(data.get(\"bike_stands\")), int(data.get(\"bonus\")), data.get(\"contract_name\"), float(data.get(\"last_update\")), data.get(\"name\"), int(data.get(\"number\")), data.get(\"position\").get(\"lat\"), data.get(\"position\").get(\"lng\"), data.get(\"status\")]\n",
    "        \n",
    "        # Add each of these elements to the table in our database\n",
    "        cursor.execute(\"INSERT INTO dublinBikes VALUES (?,?,?,?,?,?,?,?,?,?,?,?,?)\", elements)\n",
    "    conn.commit()"
   ]
  },
  {
   "cell_type": "code",
   "execution_count": null,
   "metadata": {
    "collapsed": true
   },
   "outputs": [],
   "source": [
    "if __name__ == \"__main__\":\n",
    "\n",
    "    main()"
   ]
  }
 ],
 "metadata": {
  "kernelspec": {
   "display_name": "Python 3",
   "language": "python",
   "name": "python3"
  },
  "language_info": {
   "codemirror_mode": {
    "name": "ipython",
    "version": 3
   },
   "file_extension": ".py",
   "mimetype": "text/x-python",
   "name": "python",
   "nbconvert_exporter": "python",
   "pygments_lexer": "ipython3",
   "version": "3.5.1"
  }
 },
 "nbformat": 4,
 "nbformat_minor": 0
}
